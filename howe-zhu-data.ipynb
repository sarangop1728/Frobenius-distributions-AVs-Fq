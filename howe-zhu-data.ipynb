import csv
from sage.rings.polynomial.weil.weil_polynomials import WeilPolynomials 
#Not in version 8.3, which is what OSU has

# Global objects
prec = 20 # precision
CC = ComplexField(prec)
R.<x> = PolynomialRing(QQ)

'''
Potentially useful functions
'''



def num_angles(poly, prec=500):
    """Numerical algorithm that calculates the Frobenius angles"""
    myroots = poly.radical().roots(ComplexField(prec))
    angles = [z[0].argument()/RealField(prec)(pi) for z in myroots]
    return [angle for angle in angles if angle>0]


def significant(rel,prec=500):
    """I'm not quite sure what this does"""
    m = min(map(abs,rel))
    if (m+1).exact_log(2)>=sqrt(prec):
        return False
    else:
        if (max(map(abs, rel))+1).exact_log(2) >= sqrt(prec):
            raise RuntimeError("Mixed significance")
        return True


def sage_lindep(angles):
    """Calls lindep function from PARI"""
    rel = gp.lindep(angles)
    return [ Integer(rel[i]) for i in range(1,len(angles)+1)]


def compute_rank(numbers, prec=500):
    """Numerical computation of angle rank"""
    r = len(numbers)
    if r == 1:
        return 1
    else:
        rels = sage_lindep(numbers)
        if significant(rels, prec):
            i=0
            while i<len(rels):
                if rels[i] != 0:
                    numbers.pop(i)
                    return compute_rank(numbers, prec)
                else:
                    i+=1
        else:
            return len(numbers)


def num_angle_rank(mypoly,prec=500):
    """
        We actually have enough functionality at this point to compute the entire group!
        we added 1 to the span of the normalized angles then subtract 1 from the result
    """
    angles = num_angles(mypoly, prec)
    angles = angles + [1]
    #print angles
    return compute_rank(angles,prec)-1



'''
This might be useful later:
'''
#for g in [2]:
#  for q in [2,3]:
#    R.<T> = ZZ[]
#    L = R.weil_polynomials(2*g, q) # iterates over q-weil polynomials of degree 2*g
#    it = iter(L)
#    for f in it:
#      bool = f.is_irreducible() 
#      if bool:
#       h = f.trace_polynomial()[0]
#       G = magma.GaloisGroup(f)
#       H = magma.GaloisGroup(h)
#       sl=f.newton_slopes(radical(q))
#       codeSize = magma.Order(G)/magma.Order(H)       
#       bool2 = codeSize<2^g       
#       labelG = magma.TransitiveGroupIdentification(G)
#       labelH = magma.TransitiveGroupIdentification(H)        
#       if True:
#        r = num_angle_rank(f)
#        print([g,q, magma.GroupName(G), r])


'''
The poly_data class
'''

class qPoly_Data:
    """ A class which attaches data to a polynomial"""

    def __init__(self, poly):
        """Initialise"""
        self.poly = poly
        # self.is_irreducible = poly.is_irreducible()
        # self.galois_group = poly.galois_group()
        self.dimension = ZZ(poly.degree(x)/2)
        # self.code_size = []
        # self.q =ZZ(CC((poly.coefficients()[0])^{1/self.dimension}))
        self.angle_rank = num_angle_rank(poly)
        # self.trace_poly = poly.trace_polynomial()[0]
        
    def __repr__(self):
        """Repr"""
        return "q-weil data for the polynomial {p}".format(p = self.poly)


# List with entries given by Poly_Data of q-Weil polynomaisl of degree d.
def poly_data_list(d,q):
    l = R.weil_polynomials(d,q)
    return [qPoly_Data(p) for p in l]


############

"""Genus 2 Weil polynomials as in Theorem 6 of Howe-Zhu.
   f(x) = x^4 + ax^3 + bx^2 + aqx + q^2
"""


def hz_weil_poly(a,q, case):
#     #assert(gcd(b,q)==1)
#     if case=="b": #don't really need to analyze this case
#         f=x^4 + b*x^2 + q^2;
    if case=='c': #a^2==q+b:
        f=x^4 + a*x^3 + (a^2-q)*x^2 + a*q*x + q^2;
    elif case=='d': #a^2==2*b:
        f= x^4 + a*x^3 + (a^2/2)*x^2 + a*q*x + q^2;
    elif case=='e': #a^2=3b-3q
        f = x^4 + a*x^3 + (a^2/3 + q)*x^2 + a*q*x + q^2;
    else:
        print('Pick a different case')
    return R(f)

def hz_weil_data(q,case):
    polys=[];
    n=floor(4*sqrt(q));
    for a in range(1,n):
        if gcd(a,q)==1:
            p=hz_weil_poly(a,q, case);
            if p.is_weil_polynomial and p.is_irreducible:
                polys.append(p)
            p_neg=hz_weil_poly(a,q,case);
            if p_neg.is_weil_polynomial and p_neg.is_irreducible:
                polys.append(p_neg)
    return polys;

##Example

def example_rank_props(q,case):
    ranks=[];
    rank_props=[0,0,0]
    for poly in hz_weil_data(q, case):
        rk=num_angle_rank(poly)
        ranks.append(rk)
        if rk==0:
            rank_props[0]=rank_props[0]+1;
        elif rk==1:
            rank_props[1]=rank_props[1]+1;
        else:
            rank_props[2]=rank_props[2]+1;
    
    props=[rank_props[i]/len(ranks) for i in range(3)]
    return props;
    
